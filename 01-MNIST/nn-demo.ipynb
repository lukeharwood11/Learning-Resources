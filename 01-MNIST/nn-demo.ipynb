{
 "cells": [
  {
   "cell_type": "markdown",
   "id": "981bbbac",
   "metadata": {},
   "source": [
    "# Neural Network Demo w/ MNIST Dataset\n",
    "\n",
    "[The MNIST dataset](https://git-disl.github.io/GTDLBench/datasets/mnist_datasets/) contains a bunch of small images of handwritten numbers (0-9). \n",
    "\n",
    "Let's train a neural network to classify them..."
   ]
  },
  {
   "cell_type": "markdown",
   "id": "7d3158bc",
   "metadata": {},
   "source": [
    "#### Import Dependencies"
   ]
  },
  {
   "cell_type": "code",
   "execution_count": 43,
   "id": "8c59c076",
   "metadata": {},
   "outputs": [],
   "source": [
    "import tensorflow as tf\n",
    "import matplotlib.pyplot as plt\n",
    "import numpy as np"
   ]
  },
  {
   "cell_type": "markdown",
   "id": "fe6a9d29",
   "metadata": {},
   "source": [
    "#### Load the dataset\n",
    "\n",
    "We want to split our datasets into training sets and test sets.\n",
    "The training sets are used for training, and the test sets are what we'll use to evaluate the model that we build. Note that we should *never* train on our test set, these should be images that the model has never seen!"
   ]
  },
  {
   "cell_type": "code",
   "execution_count": 44,
   "id": "e47d4625",
   "metadata": {},
   "outputs": [],
   "source": [
    "(x_train, y_train), (x_test, y_test) = tf.keras.datasets.mnist.load_data()"
   ]
  },
  {
   "cell_type": "markdown",
   "id": "3b5312ff",
   "metadata": {},
   "source": [
    "#### Peek at the data\n",
    "\n",
    "A good first step is always to know what you're working with. The dataset is in the form of a `numpy` array, which has some helpful methods we can use. Numpy is a python package that makes working with arrays fast and easy.\n",
    "\n",
    "`x_train.shape` will tell us the dimensionality of our dataset."
   ]
  },
  {
   "cell_type": "code",
   "execution_count": 45,
   "id": "d87fe22b",
   "metadata": {},
   "outputs": [
    {
     "data": {
      "text/plain": [
       "(60000, 28, 28)"
      ]
     },
     "execution_count": 45,
     "metadata": {},
     "output_type": "execute_result"
    }
   ],
   "source": [
    "x_train.shape"
   ]
  },
  {
   "cell_type": "markdown",
   "id": "0ae37850",
   "metadata": {},
   "source": [
    "This is telling us that our array is a $60000 \\times 28 \\times 28$ multi-dimensional array (or matrix).\n",
    "\n",
    "What this is telling us is that there are 60,000 images that are $28 \\times 28$ pixels."
   ]
  },
  {
   "cell_type": "markdown",
   "id": "98768d90",
   "metadata": {},
   "source": [
    "##### Example Image"
   ]
  },
  {
   "cell_type": "code",
   "execution_count": 46,
   "id": "1eec570b",
   "metadata": {},
   "outputs": [
    {
     "data": {
      "image/png": "[encoded data removed]",
      "text/plain": [
       "<Figure size 640x480 with 1 Axes>"
      ]
     },
     "metadata": {},
     "output_type": "display_data"
    }
   ],
   "source": [
    "# plt.imshow can take in a 2 or 3 dimensional array and plot it as an image.\n",
    "plt.imshow(x_train[1])\n",
    "plt.show()"
   ]
  },
  {
   "cell_type": "code",
   "execution_count": 47,
   "id": "f660fb76",
   "metadata": {},
   "outputs": [
    {
     "data": {
      "text/plain": [
       "np.uint8(0)"
      ]
     },
     "execution_count": 47,
     "metadata": {},
     "output_type": "execute_result"
    }
   ],
   "source": [
    "# display the corresponding label\n",
    "y_train[1]"
   ]
  },
  {
   "cell_type": "markdown",
   "id": "46ea8846",
   "metadata": {},
   "source": [
    "#### *(Side Note)*\n",
    "\n",
    "Our loss function does some fancy stuff that treats the single number as an index of an array equal to the dimensionality of the output layer (10).\n",
    "\n",
    "So it will turn the 0 into `[1, 0, 0, 0, 0, 0, 0, 0, 0, 0]`\n",
    "\n",
    "This just makes our lives easier."
   ]
  },
  {
   "cell_type": "code",
   "execution_count": 48,
   "id": "c1bea2a0",
   "metadata": {},
   "outputs": [
    {
     "name": "stdout",
     "output_type": "stream",
     "text": [
      "Epoch 1/6\n"
     ]
    },
    {
     "name": "stderr",
     "output_type": "stream",
     "text": [
      "/Users/lukeharwood/code/maic/venv/lib/python3.11/site-packages/keras/src/backend/tensorflow/nn.py:635: UserWarning: \"`sparse_categorical_crossentropy` received `from_logits=True`, but the `output` argument was produced by a Softmax activation and thus does not represent logits. Was this intended?\n",
      "  output, from_logits = _get_logits(\n"
     ]
    },
    {
     "name": "stdout",
     "output_type": "stream",
     "text": [
      "\u001b[1m1875/1875\u001b[0m \u001b[32m━━━━━━━━━━━━━━━━━━━━\u001b[0m\u001b[37m\u001b[0m \u001b[1m3s\u001b[0m 2ms/step - loss: 5.2133 - sparse_categorical_accuracy: 0.7925 - val_loss: 0.3832 - val_sparse_categorical_accuracy: 0.9107\n",
      "Epoch 2/6\n",
      "\u001b[1m1875/1875\u001b[0m \u001b[32m━━━━━━━━━━━━━━━━━━━━\u001b[0m\u001b[37m\u001b[0m \u001b[1m2s\u001b[0m 1ms/step - loss: 0.3279 - sparse_categorical_accuracy: 0.9168 - val_loss: 0.3137 - val_sparse_categorical_accuracy: 0.9248\n",
      "Epoch 3/6\n",
      "\u001b[1m1875/1875\u001b[0m \u001b[32m━━━━━━━━━━━━━━━━━━━━\u001b[0m\u001b[37m\u001b[0m \u001b[1m2s\u001b[0m 1ms/step - loss: 0.2257 - sparse_categorical_accuracy: 0.9397 - val_loss: 0.1994 - val_sparse_categorical_accuracy: 0.9471\n",
      "Epoch 4/6\n",
      "\u001b[1m1875/1875\u001b[0m \u001b[32m━━━━━━━━━━━━━━━━━━━━\u001b[0m\u001b[37m\u001b[0m \u001b[1m2s\u001b[0m 1ms/step - loss: 0.1627 - sparse_categorical_accuracy: 0.9547 - val_loss: 0.1914 - val_sparse_categorical_accuracy: 0.9499\n",
      "Epoch 5/6\n",
      "\u001b[1m1875/1875\u001b[0m \u001b[32m━━━━━━━━━━━━━━━━━━━━\u001b[0m\u001b[37m\u001b[0m \u001b[1m2s\u001b[0m 1ms/step - loss: 0.1436 - sparse_categorical_accuracy: 0.9597 - val_loss: 0.1679 - val_sparse_categorical_accuracy: 0.9554\n",
      "Epoch 6/6\n",
      "\u001b[1m1875/1875\u001b[0m \u001b[32m━━━━━━━━━━━━━━━━━━━━\u001b[0m\u001b[37m\u001b[0m \u001b[1m3s\u001b[0m 1ms/step - loss: 0.1256 - sparse_categorical_accuracy: 0.9651 - val_loss: 0.1904 - val_sparse_categorical_accuracy: 0.9549\n"
     ]
    }
   ],
   "source": [
    "model = tf.keras.models.Sequential([\n",
    "  # the Input layer defines what each single sample will be\n",
    "  tf.keras.layers.Input(shape=(28, 28, 1)),\n",
    "  # this layer takes the numpy array of shape (28, 28, 1) and flattens\n",
    "  # it to be a shape of (784,)\n",
    "  tf.keras.layers.Flatten(),\n",
    "  # Dense layers (aka 'linear' layer) has a weight \n",
    "  # that maps each and every input to each and every output.\n",
    "  # \n",
    "  # We also add a 'relu' activation function that adds 'non-linearity' \n",
    "  # to our network.\n",
    "  # Experiment with different activations!\n",
    "  tf.keras.layers.Dense(128, activation='relu'),\n",
    "  # Experiment with adding more layers!\n",
    "  tf.keras.layers.Dense(64, activation='relu'),\n",
    "  # Our output must match the dimensionality of our labels\n",
    "  # and our labels will be expanded to have a shape of (10,).\n",
    "  # So, our last layer must have a shape of 10.\n",
    "  # The softmax activation ensures that the output will sum to 1,\n",
    "  # meaning our output will be every element in the array as a\n",
    "  # probability\n",
    "  tf.keras.layers.Dense(10, activation='softmax')\n",
    "])\n",
    "model.compile(\n",
    "    optimizer=tf.keras.optimizers.Adam(learning_rate=0.001),\n",
    "    # 'sparse' means representing the array as an index\n",
    "    loss=tf.keras.losses.SparseCategoricalCrossentropy(from_logits=True),\n",
    "    metrics=[tf.keras.metrics.SparseCategoricalAccuracy()],\n",
    ")\n",
    "\n",
    "history = model.fit(\n",
    "    x_train,\n",
    "    y_train,\n",
    "    batch_size=32,  # change this?\n",
    "    epochs=6,       # change this?\n",
    "    validation_data=(x_test, y_test)\n",
    ")"
   ]
  },
  {
   "cell_type": "code",
   "execution_count": null,
   "id": "1cf0304b",
   "metadata": {},
   "outputs": [
    {
     "data": {
      "image/png": "[encoded data removed]",
      "text/plain": [
       "<Figure size 640x480 with 1 Axes>"
      ]
     },
     "metadata": {},
     "output_type": "display_data"
    }
   ],
   "source": [
    "# plt.plot() takes in a list of values and plots it\n",
    "plt.plot(history.history[\"loss\"], label=\"training\")\n",
    "plt.plot(history.history[\"val_loss\"], label=\"validation\")\n",
    "\n",
    "# try creating a plot for accuracy!\n",
    "\n",
    "plt.legend() # add the legend to the upper right hand corner\n",
    "plt.show()"
   ]
  },
  {
   "cell_type": "markdown",
   "id": "35489eea",
   "metadata": {},
   "source": [
    "### Let's see the results!\n",
    "\n",
    "First let's pick a random number from the test set."
   ]
  },
  {
   "cell_type": "code",
   "execution_count": null,
   "id": "d6cdfcd7",
   "metadata": {},
   "outputs": [
    {
     "data": {
      "image/png": "[encoded data removed]",
      "text/plain": [
       "<Figure size 640x480 with 1 Axes>"
      ]
     },
     "metadata": {},
     "output_type": "display_data"
    }
   ],
   "source": [
    "# let's try this image\n",
    "idx = 1\n",
    "test_image = x_test[idx]\n",
    "plt.imshow(test_image)\n",
    "plt.title(f\"True Label: {y_test[idx]}\")\n",
    "plt.show()"
   ]
  },
  {
   "cell_type": "markdown",
   "id": "0735ccee",
   "metadata": {},
   "source": [
    "We can use `model.predict()` to run 'inference' on our data to classify it.\n",
    "\n",
    "Remember, our output can be treated as a probability (between 0-1) so we can multiply each by 100 to see it as a percentage."
   ]
  },
  {
   "cell_type": "code",
   "execution_count": 60,
   "id": "fd06b8da",
   "metadata": {},
   "outputs": [
    {
     "name": "stdout",
     "output_type": "stream",
     "text": [
      "\u001b[1m1/1\u001b[0m \u001b[32m━━━━━━━━━━━━━━━━━━━━\u001b[0m\u001b[37m\u001b[0m \u001b[1m0s\u001b[0m 12ms/step\n",
      "===================================================================\n",
      "Raw prediction output:\n",
      "[1.38662110e-15 2.20079539e-14 1.00000000e+00 1.18632020e-08\n",
      " 4.60066013e-14 1.01086513e-16 1.25210204e-21 8.78053630e-10\n",
      " 1.60730817e-13 3.65412690e-21]\n",
      "===================================================================\n",
      "===================================================================\n",
      "Formatted output:\n",
      "\u001b[1m1/1\u001b[0m \u001b[32m━━━━━━━━━━━━━━━━━━━━\u001b[0m\u001b[37m\u001b[0m \u001b[1m0s\u001b[0m 12ms/step\n",
      "0 - 0.000%\n",
      "1 - 0.000%\n",
      "2 - 100.000%\n",
      "3 - 0.000%\n",
      "4 - 0.000%\n",
      "5 - 0.000%\n",
      "6 - 0.000%\n",
      "7 - 0.000%\n",
      "8 - 0.000%\n",
      "9 - 0.000%\n",
      "===================================================================\n",
      "\n",
      "The number is a 2.\n"
     ]
    }
   ],
   "source": [
    "# predict takes in a batch of inputs (hence needing to reshape it)\n",
    "prediction = model.predict(test_image.reshape((1, 28, 28)))\n",
    "print(\"===================================================================\")\n",
    "print(\"Raw prediction output:\")\n",
    "# this is the raw output from the model (grab the first/only output)\n",
    "print(prediction[0])\n",
    "print(\"===================================================================\")\n",
    "\n",
    "print(\"===================================================================\")\n",
    "print(\"Formatted output:\")\n",
    "for label, probability in enumerate(model.predict(test_image.reshape((1, 28, 28)))[0]):\n",
    "    print(f\"{label} - {probability*100:.3f}%\")\n",
    "print(\"===================================================================\")\n",
    "\n",
    "# to view this as a single value, we can use np.argmax to give us the index\n",
    "# of the value that is the highest (which is our prediction)\n",
    "print(f\"\\nThe number is a {np.argmax(prediction[0])}.\")"
   ]
  },
  {
   "cell_type": "markdown",
   "id": "ad02d851",
   "metadata": {},
   "source": [
    "Our model is 100.00% convinced it's a 2! Which is correct:)"
   ]
  },
  {
   "cell_type": "markdown",
   "id": "778814bd",
   "metadata": {},
   "source": [
    "## Further Exploration\n",
    "\n",
    "1. Try modifying some of the hyperparameters of our model (e.g. the learning rate, batch size, activation functions, epochs, etc.). Add/remove layers to the network and see how it does.\n",
    "3. Predict the entire test set, and visualize examples where it's wrong, what is messing it up?\n",
    "4. Try using a CNN architecture! I'd reccomend getting a CNN working on this simpler dataset before trying it on the CIFAR-100 dataset. ([Tensorflow Conv2D Docs](https://www.tensorflow.org/api_docs/python/tf/keras/layers/Conv2D))\n",
    "5. Once you're getting good validation/test accuracy, what other layers can we add to help boost accuracy, or reduce overfitting? You'll have to research this..."
   ]
  }
 ],
 "metadata": {
  "kernelspec": {
   "display_name": "venv",
   "language": "python",
   "name": "python3"
  },
  "language_info": {
   "codemirror_mode": {
    "name": "ipython",
    "version": 3
   },
   "file_extension": ".py",
   "mimetype": "text/x-python",
   "name": "python",
   "nbconvert_exporter": "python",
   "pygments_lexer": "ipython3",
   "version": "3.11.6"
  }
 },
 "nbformat": 4,
 "nbformat_minor": 5
}
