{
 "cells": [
  {
   "cell_type": "markdown",
   "metadata": {},
   "source": [
    "# Challenge: Train a Neural Network to Solve CIFAR-100\n",
    "\n",
    "[CIFAR-100 Dataset Documentation](https://www.cs.toronto.edu/~kriz/cifar.html)\n",
    "\n",
    "The goal of this is to take some of the things that we learned about, and train a model to solve a more complex problem. This time around, instead of 10 classes to predict, we have 100!\n",
    "\n",
    "As a part of this, the challenge is to learn one new model layer or technique in model training (through research) to help you boost your models performance. Look into how it works and/or what problem it helps solve!\n",
    "\n",
    "Feel free to use the demo notebook as a reference.\n",
    "\n",
    "Good Luck!"
   ]
  },
  {
   "cell_type": "code",
   "execution_count": 3,
   "metadata": {},
   "outputs": [],
   "source": [
    "# install dependencies\n",
    "import tensorflow as tf\n",
    "import matplotlib.pyplot as plt\n",
    "import numpy as np"
   ]
  },
  {
   "cell_type": "code",
   "execution_count": 4,
   "metadata": {},
   "outputs": [],
   "source": [
    "# load the data\n",
    "(x_train, y_train), (x_test, y_test) = tf.keras.datasets.cifar100.load_data(\n",
    "    label_mode='fine'\n",
    ")"
   ]
  }
 ],
 "metadata": {
  "kernelspec": {
   "display_name": "venv",
   "language": "python",
   "name": "python3"
  },
  "language_info": {
   "codemirror_mode": {
    "name": "ipython",
    "version": 3
   },
   "file_extension": ".py",
   "mimetype": "text/x-python",
   "name": "python",
   "nbconvert_exporter": "python",
   "pygments_lexer": "ipython3",
   "version": "3.11.6"
  }
 },
 "nbformat": 4,
 "nbformat_minor": 2
}
